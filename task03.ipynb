{
 "cells": [
  {
   "cell_type": "markdown",
   "metadata": {},
   "source": [
    "# 3. 数据管理"
   ]
  },
  {
   "cell_type": "markdown",
   "metadata": {},
   "source": [
    "## 3.1 数据卷"
   ]
  },
  {
   "cell_type": "markdown",
   "metadata": {},
   "source": [
    "数据卷是一个可供一个或多个容器使用的特殊目录，它绕过 UFS (UNIX File System) ，可以提供很多有用的特性："
   ]
  },
  {
   "cell_type": "markdown",
   "metadata": {},
   "source": [
    "一个文件系统的结构包括引导块（boot block）、超级块（super block）、索引节点表（inode list）以及数据块（data blocks）\n",
    "\n",
    "UFS -link: https://blog.csdn.net/pl20140910/article/details/80298312"
   ]
  },
  {
   "cell_type": "markdown",
   "metadata": {},
   "source": [
    "特性：\n",
    "\n",
    "1. 数据卷可以在容器之间共享和重用\n",
    "\n",
    "2. 对数据卷的修改会立马生效\n",
    "\n",
    "3. 对数据卷的更新，不会影响镜像\n",
    "\n",
    "4. 数据卷默认会一直存在，即使容器被删除"
   ]
  },
  {
   "cell_type": "markdown",
   "metadata": {},
   "source": [
    "注意：数据卷的使用，类似于 Linux 下对目录或文件进行 mount，镜像中的被指定为挂载点的目录中的文件会复制到数据卷中（仅数据卷为空时会复制）"
   ]
  },
  {
   "cell_type": "markdown",
   "metadata": {},
   "source": [
    "### 3.1.1 数据卷的基本操作"
   ]
  },
  {
   "cell_type": "markdown",
   "metadata": {},
   "source": [
    "创建数据卷：\n",
    "\n",
    "    $ docker volume create datawhale"
   ]
  },
  {
   "cell_type": "markdown",
   "metadata": {},
   "source": [
    "查看所有的数据卷:\n",
    "\n",
    "    $ docker volume ls\n",
    "\n",
    "    DRIVER              VOLUME NAME\n",
    "    local               datawhale"
   ]
  },
  {
   "cell_type": "markdown",
   "metadata": {},
   "source": [
    "在主机里使用以下命令可以查看指定数据卷的信息：\n",
    "\n",
    "    $ docker volume inspect datawhale\n",
    "    [\n",
    "        {\n",
    "            \"Driver\": \"local\",\n",
    "            \"Labels\": {},\n",
    "            \"Mountpoint\": \"/var/lib/docker/volumes/datawhale/_data\",\n",
    "            \"Name\": \"datawhale\",\n",
    "            \"Options\": {},\n",
    "            \"Scope\": \"local\"\n",
    "        }\n",
    "    ]"
   ]
  },
  {
   "cell_type": "markdown",
   "metadata": {},
   "source": [
    "### 3.1.2 启动一个挂载数据卷的容器"
   ]
  },
  {
   "cell_type": "markdown",
   "metadata": {},
   "source": [
    "在用 docker run 命令的时候，使用 --mount 标记来将数据卷挂载到容器里。在一次 docker run 中可以挂载多个 数据卷。\n",
    "\n",
    "下面创建一个名为 web 的容器，并加载一个数据卷到容器的 /usr/share/nginx/html 目录。"
   ]
  },
  {
   "cell_type": "markdown",
   "metadata": {},
   "source": [
    "    $ docker run -d -P \\\n",
    "        --name web \\\n",
    "        --mount source=datawhale,target=/usr/share/nginx/html \\\n",
    "        nginx:alpine"
   ]
  },
  {
   "cell_type": "markdown",
   "metadata": {},
   "source": [
    "comments:\n",
    "\n",
    "    source ：数据卷\n",
    "    target ：是容器内文件系统挂载点\n",
    "\n",
    "    注意，可以不需要提前创建好数据卷，直接在运行容器的时候mount 这时如果不存在指定的数据卷，docker会自动创建，自动生成。"
   ]
  },
  {
   "cell_type": "markdown",
   "metadata": {},
   "source": [
    "### 3.1.3 查看数据卷的具体信息"
   ]
  },
  {
   "cell_type": "markdown",
   "metadata": {},
   "source": [
    "在主机里使用以下命令可以查看 web 容器的信息:\n",
    "\n",
    "    $ docker inspect web"
   ]
  },
  {
   "cell_type": "markdown",
   "metadata": {},
   "source": [
    "数据卷 信息在 \"Mounts\" Key 下面\n",
    "\n",
    "    \"Mounts\": [\n",
    "        {\n",
    "            \"Type\": \"volume\",\n",
    "            \"Name\": \"datawhale\",\n",
    "            \"Source\": \"/var/lib/docker/volumes/datawhale/_data\",\n",
    "            \"Destination\": \"/usr/share/nginx/html\",\n",
    "            \"Driver\": \"local\",\n",
    "            \"Mode\": \"\",\n",
    "            \"RW\": true,\n",
    "            \"Propagation\": \"\"\n",
    "        }\n",
    "    ],"
   ]
  },
  {
   "cell_type": "markdown",
   "metadata": {},
   "source": [
    "### 3.1.4 删除数据卷"
   ]
  },
  {
   "cell_type": "markdown",
   "metadata": {},
   "source": [
    "    $ docker volume rm datawhale  #datawhale为卷名\n",
    "\n",
    "数据卷是被设计用来持久化数据的，它的生命周期独立于容器，Docker 不会在容器被删除后自动删除 数据卷，并且也不存在垃圾回收这样的机制来处理没有任何容器引用的 数据卷。如果需要在删除容器的同时移除数据卷。可以在删除容器的时候使用 docker rm -v 这个命令。\n",
    "\n",
    "无主的数据卷可能会占据很多空间，要清理请使用以下命令\n",
    "\n",
    "    $ docker volume prune"
   ]
  },
  {
   "cell_type": "markdown",
   "metadata": {},
   "source": [
    "## 3.2 挂载主机目录"
   ]
  },
  {
   "cell_type": "markdown",
   "metadata": {},
   "source": [
    "### 3.2.1 挂载一个主机目录作为数据卷"
   ]
  },
  {
   "cell_type": "markdown",
   "metadata": {},
   "source": [
    "使用 --mount 标记可以指定挂载一个本地主机的目录到容器中去。\n",
    "\n",
    "    $ docker run -d -P \\\n",
    "        --name web \\\n",
    "        --mount type=bind,source=/src/webapp,target=/usr/share/nginx/html \\\n",
    "        nginx:alpine"
   ]
  },
  {
   "cell_type": "markdown",
   "metadata": {},
   "source": [
    "上面的命令加载主机的 /src/webapp 目录到容器的 /usr/share/nginx/html目录。这个功能在进行测试的时候十分方便，比如用户可以放置一些程序到本地目录中，来查看容器是否正常工作。本地目录的路径必须是绝对路径，以前使用 -v 参数时如果本地目录不存在 Docker 会自动为你创建一个文件夹，现在使用 --mount 参数时如果本地目录不存在，Docker 会报错。"
   ]
  },
  {
   "cell_type": "markdown",
   "metadata": {},
   "source": [
    "comments: Docker 挂载主机目录的默认权限是 读写，用户也可以通过增加 readonly 指定为 只读。\n",
    "\n",
    "例如：\n",
    "\n",
    "    $ docker run -d -P \\\n",
    "        --name web \\\n",
    "        --mount type=bind,source=/src/webapp,target=/usr/share/nginx/html,readonly \\\n",
    "        nginx:alpine"
   ]
  },
  {
   "cell_type": "markdown",
   "metadata": {},
   "source": [
    "加了 readonly 之后，就挂载为 只读 了。如果你在容器内 /usr/share/nginx/html 目录新建文件，会显示如下错误\n",
    "\n",
    "    /usr/share/nginx/html # touch new.txt\n",
    "    touch: new.txt: Read-only file system"
   ]
  },
  {
   "cell_type": "markdown",
   "metadata": {},
   "source": [
    "### 3.2.2 挂载一个本地主机文件作为数据卷"
   ]
  },
  {
   "cell_type": "markdown",
   "metadata": {},
   "source": [
    "--mount 标记也可以从主机挂载单个文件到容器中\n",
    "\n",
    "    $ docker run --rm -it \\\n",
    "       --mount type=bind,source=$HOME/.bash_history,target=/root/.bash_history \\\n",
    "       ubuntu:18.04 \\\n",
    "       bash"
   ]
  },
  {
   "cell_type": "markdown",
   "metadata": {},
   "source": [
    "没太看懂。。。"
   ]
  }
 ],
 "metadata": {
  "kernelspec": {
   "display_name": "Python 3",
   "language": "python",
   "name": "python3"
  },
  "language_info": {
   "codemirror_mode": {
    "name": "ipython",
    "version": 3
   },
   "file_extension": ".py",
   "mimetype": "text/x-python",
   "name": "python",
   "nbconvert_exporter": "python",
   "pygments_lexer": "ipython3",
   "version": "3.8.3"
  }
 },
 "nbformat": 4,
 "nbformat_minor": 4
}
